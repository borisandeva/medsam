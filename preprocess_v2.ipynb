{
 "cells": [
  {
   "cell_type": "code",
   "execution_count": 4,
   "metadata": {},
   "outputs": [
    {
     "name": "stderr",
     "output_type": "stream",
     "text": [
      "/gpu_home/bori/miniconda3/envs/sam_adapt/lib/python3.10/site-packages/tqdm/auto.py:21: TqdmWarning: IProgress not found. Please update jupyter and ipywidgets. See https://ipywidgets.readthedocs.io/en/stable/user_install.html\n",
      "  from .autonotebook import tqdm as notebook_tqdm\n"
     ]
    }
   ],
   "source": [
    "import os\n",
    "from glob import glob\n",
    "from monai.transforms import (\n",
    "   Activations,\n",
    "   #AsChannelFirstd,\n",
    "   AsDiscrete,\n",
    "   CenterSpatialCropd,\n",
    "   Compose,\n",
    "   LoadImaged,\n",
    "   MapTransform,\n",
    "   NormalizeIntensityd,\n",
    "   Orientationd,\n",
    "   RandFlipd,\n",
    "   RandScaleIntensityd,\n",
    "   RandShiftIntensityd,\n",
    "   RandSpatialCropd,\n",
    "   Spacingd,\n",
    "   ToTensord,\n",
    ")"
   ]
  },
  {
   "cell_type": "code",
   "execution_count": 5,
   "metadata": {},
   "outputs": [
    {
     "data": {
      "text/plain": [
       "20"
      ]
     },
     "execution_count": 5,
     "metadata": {},
     "output_type": "execute_result"
    }
   ],
   "source": [
    "\n",
    "data_path='/gpu_home/bori/nnUNetFrame/dataset'\n",
    "data_path = os.path.join(data_path, \"nnUNet_raw\", \"Dataset001_Postoperative\")\n",
    "image_path =sorted(glob(os.path.join(data_path, \"imagesTr\", '*.nii.gz')))\n",
    "label_path =sorted(glob (os.path.join(data_path, \"labelsTr\", '*.nii.gz')))\n",
    "\n",
    "train_images =sorted(glob(os.path.join(data_path, \"imagesTr\", '*.nii.gz')))\n",
    "train_labels =sorted(glob (os.path.join(data_path, \"labelsTr\", '*.nii.gz')))\n",
    "train_labels\n",
    "train_files = [{\"image\": image_name, \"label\":label_name} for image_name, label_name in zip(train_images, train_labels)]\n",
    "len(train_files)"
   ]
  },
  {
   "cell_type": "code",
   "execution_count": 6,
   "metadata": {},
   "outputs": [
    {
     "data": {
      "text/plain": [
       "[{'image': '/gpu_home/bori/nnUNetFrame/dataset/nnUNet_raw/Dataset001_Postoperative/imagesTr/Image_Recidief10_0000.nii.gz',\n",
       "  'label': '/gpu_home/bori/nnUNetFrame/dataset/nnUNet_raw/Dataset001_Postoperative/labelsTr/Image_Recidief1.nii.gz'},\n",
       " {'image': '/gpu_home/bori/nnUNetFrame/dataset/nnUNet_raw/Dataset001_Postoperative/imagesTr/Image_Recidief11_0000.nii.gz',\n",
       "  'label': '/gpu_home/bori/nnUNetFrame/dataset/nnUNet_raw/Dataset001_Postoperative/labelsTr/Image_Recidief10.nii.gz'},\n",
       " {'image': '/gpu_home/bori/nnUNetFrame/dataset/nnUNet_raw/Dataset001_Postoperative/imagesTr/Image_Recidief12_0000.nii.gz',\n",
       "  'label': '/gpu_home/bori/nnUNetFrame/dataset/nnUNet_raw/Dataset001_Postoperative/labelsTr/Image_Recidief11.nii.gz'}]"
      ]
     },
     "execution_count": 6,
     "metadata": {},
     "output_type": "execute_result"
    }
   ],
   "source": [
    "train_files[:3]"
   ]
  },
  {
   "cell_type": "code",
   "execution_count": null,
   "metadata": {},
   "outputs": [],
   "source": [
    "\n",
    "roi_size=[128, 128, 64]\n",
    "pixdim=(1.5, 1.5, 2.0)\n",
    "\n",
    "train_transform = Compose(\n",
    "   [\n",
    "       # load 4 Nifti images and stack them together\n",
    "       LoadImaged(keys=[\"image\", \"label\"]),\n",
    "       #ConvertToMultiChannelBasedOnBratsClassesd(keys=\"label\"),\n",
    "       Spacingd(\n",
    "           keys=[\"image\", \"label\"],\n",
    "           pixdim=pixdim,\n",
    "           mode=(\"bilinear\", \"nearest\"),\n",
    "       ),\n",
    "       Orientationd(keys=[\"image\", \"label\"], axcodes=\"RAS\"),\n",
    "       RandSpatialCropd(\n",
    "           keys=[\"image\", \"label\"], roi_size=roi_size, random_size=False),\n",
    "       RandFlipd(keys=[\"image\", \"label\"], prob=0.5, spatial_axis=0),\n",
    "       NormalizeIntensityd(keys=\"image\", nonzero=True, channel_wise=True),\n",
    "       RandScaleIntensityd(keys=\"image\", factors=0.1, prob=0.5),\n",
    "       RandShiftIntensityd(keys=\"image\", offsets=0.1, prob=0.5),\n",
    "       ToTensord(keys=[\"image\", \"label\"])\n",
    "   ]\n",
    ")\n"
   ]
  }
 ],
 "metadata": {
  "kernelspec": {
   "display_name": "sam_adapt",
   "language": "python",
   "name": "python3"
  },
  "language_info": {
   "codemirror_mode": {
    "name": "ipython",
    "version": 3
   },
   "file_extension": ".py",
   "mimetype": "text/x-python",
   "name": "python",
   "nbconvert_exporter": "python",
   "pygments_lexer": "ipython3",
   "version": "3.10.13"
  }
 },
 "nbformat": 4,
 "nbformat_minor": 2
}
